{
  "nbformat": 4,
  "nbformat_minor": 0,
  "metadata": {
    "colab": {
      "provenance": [],
      "authorship_tag": "ABX9TyMNlduahCgQZD7BhRXj1Tuq",
      "include_colab_link": true
    },
    "kernelspec": {
      "name": "python3",
      "display_name": "Python 3"
    },
    "language_info": {
      "name": "python"
    }
  },
  "cells": [
    {
      "cell_type": "markdown",
      "metadata": {
        "id": "view-in-github",
        "colab_type": "text"
      },
      "source": [
        "<a href=\"https://colab.research.google.com/github/wilcom1/Dendrograma/blob/main/Dendrograma.ipynb\" target=\"_parent\"><img src=\"https://colab.research.google.com/assets/colab-badge.svg\" alt=\"Open In Colab\"/></a>"
      ]
    },
    {
      "cell_type": "markdown",
      "source": [
        "# SCRIPT PARA CONSTRUCCIÓN DE DENDROGRAMA"
      ],
      "metadata": {
        "id": "PfKUkrxze-7G"
      }
    },
    {
      "cell_type": "markdown",
      "source": [
        "Este script construye un dendrograma a partir de los resultados de una actividad de card sorting para definir la arquitectura de la información de una aplicación web/Móvil.\n",
        "Para la construcción del dendrograma se usa clustering jerárquico."
      ],
      "metadata": {
        "id": "zBy5efQYfJxa"
      }
    },
    {
      "cell_type": "markdown",
      "source": [
        "## Importación de datos"
      ],
      "metadata": {
        "id": "NZH-KYr4i8js"
      }
    },
    {
      "cell_type": "code",
      "execution_count": null,
      "metadata": {
        "id": "HpXoF6ctPxeV"
      },
      "outputs": [],
      "source": [
        "import numpy as np # Librería para cálculos Avanzados\n",
        "import pandas as pd  # Librería usada para el análisis de datos\n",
        "import matplotlib.pyplot as plt # Librería usada para las gráficas.\n",
        "\n",
        "import scipy.cluster.hierarchy as sch\n",
        "from scipy.cluster.hierarchy import dendrogram, linkage, fcluster\n",
        "from sklearn.datasets import make_blobs\n",
        "\n",
        "##Se usa para mostrar los gráficos en el notebook\n",
        "%matplotlib inline"
      ]
    },
    {
      "cell_type": "markdown",
      "source": [
        "# Cargue de la información a evaluar"
      ],
      "metadata": {
        "id": "umdV3e7ki6_9"
      }
    },
    {
      "cell_type": "markdown",
      "source": [
        "Se carga la matriz de resultados del card sorting desde una ubicación en el disco duro. Esta ubicación puede cambiar de máquina a máquina por lo que es importante que se confirme que la ruta de la siguiente línea de código es correcta."
      ],
      "metadata": {
        "id": "cNsX9Ho2k1bq"
      }
    },
    {
      "cell_type": "code",
      "source": [
        "resultados = pd.read_csv('/Matriz_resultados.csv',index_col=0,sep=';')"
      ],
      "metadata": {
        "id": "UF6qmfAoSgJb"
      },
      "execution_count": null,
      "outputs": []
    },
    {
      "cell_type": "markdown",
      "source": [
        "Se usa la funcion info para verificar que los datos del csv se hayan cargado correctamente."
      ],
      "metadata": {
        "id": "Zbxz16FzmFLt"
      }
    },
    {
      "cell_type": "code",
      "source": [
        "resultados.info()"
      ],
      "metadata": {
        "colab": {
          "base_uri": "https://localhost:8080/"
        },
        "id": "UssZ2jc6lCxc",
        "outputId": "5de6d70f-3a86-44a6-a712-eacfe71f8fda"
      },
      "execution_count": null,
      "outputs": [
        {
          "output_type": "stream",
          "name": "stdout",
          "text": [
            "<class 'pandas.core.frame.DataFrame'>\n",
            "Index: 15 entries, Mi perfil to Ver información detallada del hogar\n",
            "Data columns (total 5 columns):\n",
            " #   Column               Non-Null Count  Dtype\n",
            "---  ------               --------------  -----\n",
            " 0   SEGURIDAD            15 non-null     int64\n",
            " 1   SERVICIO             15 non-null     int64\n",
            " 2   USUARIO EN EL HOGAR  15 non-null     int64\n",
            " 3   RECICLADOR           15 non-null     int64\n",
            " 4   SIN ORDENAR          15 non-null     int64\n",
            "dtypes: int64(5)\n",
            "memory usage: 720.0+ bytes\n"
          ]
        }
      ]
    },
    {
      "cell_type": "markdown",
      "source": [
        "Usando el comando head, se imprimen las primeras 5 filas del archivo para verificar que se haya cargado la información de manera correcta."
      ],
      "metadata": {
        "id": "YY17QS9Emfme"
      }
    },
    {
      "cell_type": "code",
      "source": [
        "resultados.head()"
      ],
      "metadata": {
        "colab": {
          "base_uri": "https://localhost:8080/",
          "height": 237
        },
        "id": "yOpwSOgamWwA",
        "outputId": "d0941739-be54-41b8-d3db-aef26d6dd616"
      },
      "execution_count": null,
      "outputs": [
        {
          "output_type": "execute_result",
          "data": {
            "text/plain": [
              "                                   SEGURIDAD  SERVICIO  USUARIO EN EL HOGAR  \\\n",
              "OPCIÓN                                                                        \n",
              "Mi perfil                                  7         1                    2   \n",
              "Solicitar servicio de recolección          0         6                    3   \n",
              "Cambiar contraseña                         8         0                    2   \n",
              "Cerrar Sesión                              7         1                    2   \n",
              "Ver lista de recicladores                  2         2                    3   \n",
              "\n",
              "                                   RECICLADOR  SIN ORDENAR  \n",
              "OPCIÓN                                                      \n",
              "Mi perfil                                   0            0  \n",
              "Solicitar servicio de recolección           1            0  \n",
              "Cambiar contraseña                          0            0  \n",
              "Cerrar Sesión                               0            0  \n",
              "Ver lista de recicladores                   3            0  "
            ],
            "text/html": [
              "\n",
              "  <div id=\"df-83f2440b-b2e0-4e48-a7ff-0c61223bf489\">\n",
              "    <div class=\"colab-df-container\">\n",
              "      <div>\n",
              "<style scoped>\n",
              "    .dataframe tbody tr th:only-of-type {\n",
              "        vertical-align: middle;\n",
              "    }\n",
              "\n",
              "    .dataframe tbody tr th {\n",
              "        vertical-align: top;\n",
              "    }\n",
              "\n",
              "    .dataframe thead th {\n",
              "        text-align: right;\n",
              "    }\n",
              "</style>\n",
              "<table border=\"1\" class=\"dataframe\">\n",
              "  <thead>\n",
              "    <tr style=\"text-align: right;\">\n",
              "      <th></th>\n",
              "      <th>SEGURIDAD</th>\n",
              "      <th>SERVICIO</th>\n",
              "      <th>USUARIO EN EL HOGAR</th>\n",
              "      <th>RECICLADOR</th>\n",
              "      <th>SIN ORDENAR</th>\n",
              "    </tr>\n",
              "    <tr>\n",
              "      <th>OPCIÓN</th>\n",
              "      <th></th>\n",
              "      <th></th>\n",
              "      <th></th>\n",
              "      <th></th>\n",
              "      <th></th>\n",
              "    </tr>\n",
              "  </thead>\n",
              "  <tbody>\n",
              "    <tr>\n",
              "      <th>Mi perfil</th>\n",
              "      <td>7</td>\n",
              "      <td>1</td>\n",
              "      <td>2</td>\n",
              "      <td>0</td>\n",
              "      <td>0</td>\n",
              "    </tr>\n",
              "    <tr>\n",
              "      <th>Solicitar servicio de recolección</th>\n",
              "      <td>0</td>\n",
              "      <td>6</td>\n",
              "      <td>3</td>\n",
              "      <td>1</td>\n",
              "      <td>0</td>\n",
              "    </tr>\n",
              "    <tr>\n",
              "      <th>Cambiar contraseña</th>\n",
              "      <td>8</td>\n",
              "      <td>0</td>\n",
              "      <td>2</td>\n",
              "      <td>0</td>\n",
              "      <td>0</td>\n",
              "    </tr>\n",
              "    <tr>\n",
              "      <th>Cerrar Sesión</th>\n",
              "      <td>7</td>\n",
              "      <td>1</td>\n",
              "      <td>2</td>\n",
              "      <td>0</td>\n",
              "      <td>0</td>\n",
              "    </tr>\n",
              "    <tr>\n",
              "      <th>Ver lista de recicladores</th>\n",
              "      <td>2</td>\n",
              "      <td>2</td>\n",
              "      <td>3</td>\n",
              "      <td>3</td>\n",
              "      <td>0</td>\n",
              "    </tr>\n",
              "  </tbody>\n",
              "</table>\n",
              "</div>\n",
              "      <button class=\"colab-df-convert\" onclick=\"convertToInteractive('df-83f2440b-b2e0-4e48-a7ff-0c61223bf489')\"\n",
              "              title=\"Convert this dataframe to an interactive table.\"\n",
              "              style=\"display:none;\">\n",
              "        \n",
              "  <svg xmlns=\"http://www.w3.org/2000/svg\" height=\"24px\"viewBox=\"0 0 24 24\"\n",
              "       width=\"24px\">\n",
              "    <path d=\"M0 0h24v24H0V0z\" fill=\"none\"/>\n",
              "    <path d=\"M18.56 5.44l.94 2.06.94-2.06 2.06-.94-2.06-.94-.94-2.06-.94 2.06-2.06.94zm-11 1L8.5 8.5l.94-2.06 2.06-.94-2.06-.94L8.5 2.5l-.94 2.06-2.06.94zm10 10l.94 2.06.94-2.06 2.06-.94-2.06-.94-.94-2.06-.94 2.06-2.06.94z\"/><path d=\"M17.41 7.96l-1.37-1.37c-.4-.4-.92-.59-1.43-.59-.52 0-1.04.2-1.43.59L10.3 9.45l-7.72 7.72c-.78.78-.78 2.05 0 2.83L4 21.41c.39.39.9.59 1.41.59.51 0 1.02-.2 1.41-.59l7.78-7.78 2.81-2.81c.8-.78.8-2.07 0-2.86zM5.41 20L4 18.59l7.72-7.72 1.47 1.35L5.41 20z\"/>\n",
              "  </svg>\n",
              "      </button>\n",
              "      \n",
              "  <style>\n",
              "    .colab-df-container {\n",
              "      display:flex;\n",
              "      flex-wrap:wrap;\n",
              "      gap: 12px;\n",
              "    }\n",
              "\n",
              "    .colab-df-convert {\n",
              "      background-color: #E8F0FE;\n",
              "      border: none;\n",
              "      border-radius: 50%;\n",
              "      cursor: pointer;\n",
              "      display: none;\n",
              "      fill: #1967D2;\n",
              "      height: 32px;\n",
              "      padding: 0 0 0 0;\n",
              "      width: 32px;\n",
              "    }\n",
              "\n",
              "    .colab-df-convert:hover {\n",
              "      background-color: #E2EBFA;\n",
              "      box-shadow: 0px 1px 2px rgba(60, 64, 67, 0.3), 0px 1px 3px 1px rgba(60, 64, 67, 0.15);\n",
              "      fill: #174EA6;\n",
              "    }\n",
              "\n",
              "    [theme=dark] .colab-df-convert {\n",
              "      background-color: #3B4455;\n",
              "      fill: #D2E3FC;\n",
              "    }\n",
              "\n",
              "    [theme=dark] .colab-df-convert:hover {\n",
              "      background-color: #434B5C;\n",
              "      box-shadow: 0px 1px 3px 1px rgba(0, 0, 0, 0.15);\n",
              "      filter: drop-shadow(0px 1px 2px rgba(0, 0, 0, 0.3));\n",
              "      fill: #FFFFFF;\n",
              "    }\n",
              "  </style>\n",
              "\n",
              "      <script>\n",
              "        const buttonEl =\n",
              "          document.querySelector('#df-83f2440b-b2e0-4e48-a7ff-0c61223bf489 button.colab-df-convert');\n",
              "        buttonEl.style.display =\n",
              "          google.colab.kernel.accessAllowed ? 'block' : 'none';\n",
              "\n",
              "        async function convertToInteractive(key) {\n",
              "          const element = document.querySelector('#df-83f2440b-b2e0-4e48-a7ff-0c61223bf489');\n",
              "          const dataTable =\n",
              "            await google.colab.kernel.invokeFunction('convertToInteractive',\n",
              "                                                     [key], {});\n",
              "          if (!dataTable) return;\n",
              "\n",
              "          const docLinkHtml = 'Like what you see? Visit the ' +\n",
              "            '<a target=\"_blank\" href=https://colab.research.google.com/notebooks/data_table.ipynb>data table notebook</a>'\n",
              "            + ' to learn more about interactive tables.';\n",
              "          element.innerHTML = '';\n",
              "          dataTable['output_type'] = 'display_data';\n",
              "          await google.colab.output.renderOutput(dataTable, element);\n",
              "          const docLink = document.createElement('div');\n",
              "          docLink.innerHTML = docLinkHtml;\n",
              "          element.appendChild(docLink);\n",
              "        }\n",
              "      </script>\n",
              "    </div>\n",
              "  </div>\n",
              "  "
            ]
          },
          "metadata": {},
          "execution_count": 10
        }
      ]
    },
    {
      "cell_type": "markdown",
      "source": [
        "Se extraen los valores numéricos únicamente y se empaquetan dentro de un arreglo. Para eso se usa la función **iloc** del objeto resultados."
      ],
      "metadata": {
        "id": "ci0-c3otnKw6"
      }
    },
    {
      "cell_type": "code",
      "source": [
        "ocurrencias = resultados.iloc[:,[0,1,2,3,4]].values\n",
        "ocurrencias"
      ],
      "metadata": {
        "colab": {
          "base_uri": "https://localhost:8080/"
        },
        "id": "5HZYpnw7m0h9",
        "outputId": "a46d0ce9-122f-469d-d618-8d4da38c10c8"
      },
      "execution_count": null,
      "outputs": [
        {
          "output_type": "execute_result",
          "data": {
            "text/plain": [
              "array([[7, 1, 2, 0, 0],\n",
              "       [0, 6, 3, 1, 0],\n",
              "       [8, 0, 2, 0, 0],\n",
              "       [7, 1, 2, 0, 0],\n",
              "       [2, 2, 3, 3, 0],\n",
              "       [3, 5, 1, 1, 0],\n",
              "       [1, 1, 5, 3, 0],\n",
              "       [0, 8, 2, 0, 0],\n",
              "       [0, 4, 4, 2, 0],\n",
              "       [1, 2, 4, 3, 0],\n",
              "       [0, 6, 2, 2, 0],\n",
              "       [0, 5, 0, 5, 0],\n",
              "       [1, 6, 2, 1, 0],\n",
              "       [0, 3, 2, 5, 0],\n",
              "       [0, 2, 3, 5, 0]])"
            ]
          },
          "metadata": {},
          "execution_count": 11
        }
      ]
    },
    {
      "cell_type": "markdown",
      "source": [
        "## Dendrograma"
      ],
      "metadata": {
        "id": "q5WvEBp_nhU1"
      }
    },
    {
      "cell_type": "code",
      "source": [
        "clustering_jerarquico = linkage(ocurrencias, 'ward')"
      ],
      "metadata": {
        "id": "hu6YZ3ZA05PS"
      },
      "execution_count": null,
      "outputs": []
    },
    {
      "cell_type": "code",
      "source": [
        "dendrogram = sch.dendrogram(clustering_jerarquico)"
      ],
      "metadata": {
        "colab": {
          "base_uri": "https://localhost:8080/",
          "height": 268
        },
        "id": "wq5wVudK1UIY",
        "outputId": "e8ecdce9-7237-4bf8-82de-5fb2e661e998"
      },
      "execution_count": null,
      "outputs": [
        {
          "output_type": "display_data",
          "data": {
            "text/plain": [
              "<Figure size 432x288 with 1 Axes>"
            ],
            "image/png": "[encoded data removed]"
          },
          "metadata": {
            "needs_background": "light"
          }
        }
      ]
    },
    {
      "cell_type": "markdown",
      "source": [
        "Se determina la altura de"
      ],
      "metadata": {
        "id": "4mg9zS8YEQZM"
      }
    },
    {
      "cell_type": "code",
      "source": [
        "clusters = fcluster(clustering_jerarquico, t=5,criterion='distance')\n",
        "clusters"
      ],
      "metadata": {
        "colab": {
          "base_uri": "https://localhost:8080/"
        },
        "id": "qDQNigHo3RIP",
        "outputId": "24f2c37b-3415-474f-98ac-e75fd6fa7bbd"
      },
      "execution_count": null,
      "outputs": [
        {
          "output_type": "execute_result",
          "data": {
            "text/plain": [
              "array([1, 2, 1, 1, 3, 2, 3, 2, 3, 3, 2, 4, 2, 4, 4], dtype=int32)"
            ]
          },
          "metadata": {},
          "execution_count": 17
        }
      ]
    },
    {
      "cell_type": "code",
      "source": [
        "resultados['CLUSTERING_JERARQUICO']=clusters\n",
        "resultados"
      ],
      "metadata": {
        "colab": {
          "base_uri": "https://localhost:8080/",
          "height": 942
        },
        "id": "bUV6RbsRCpSs",
        "outputId": "3be9cd88-b5e8-4628-90fe-50db378882bb"
      },
      "execution_count": null,
      "outputs": [
        {
          "output_type": "execute_result",
          "data": {
            "text/plain": [
              "                                          SEGURIDAD  SERVICIO  \\\n",
              "OPCIÓN                                                          \n",
              "Mi perfil                                         7         1   \n",
              "Solicitar servicio de recolección                 0         6   \n",
              "Cambiar contraseña                                8         0   \n",
              "Cerrar Sesión                                     7         1   \n",
              "Ver lista de recicladores                         2         2   \n",
              "Histórico de servicios                            3         5   \n",
              "Ver información detallada del reciclador          1         1   \n",
              "Ver información detallada del servicio            0         8   \n",
              "Ofrecer compensación a reciclador                 0         4   \n",
              "Calificar reciclador                              1         2   \n",
              "Ver recomendaciones de reciclaje                  0         6   \n",
              "Ver precios de material de reciclaje              0         5   \n",
              "Cancelar servicio de recolección                  1         6   \n",
              "Calificar Hogar                                   0         3   \n",
              "Ver información detallada del hogar               0         2   \n",
              "\n",
              "                                          USUARIO EN EL HOGAR  RECICLADOR  \\\n",
              "OPCIÓN                                                                      \n",
              "Mi perfil                                                   2           0   \n",
              "Solicitar servicio de recolección                           3           1   \n",
              "Cambiar contraseña                                          2           0   \n",
              "Cerrar Sesión                                               2           0   \n",
              "Ver lista de recicladores                                   3           3   \n",
              "Histórico de servicios                                      1           1   \n",
              "Ver información detallada del reciclador                    5           3   \n",
              "Ver información detallada del servicio                      2           0   \n",
              "Ofrecer compensación a reciclador                           4           2   \n",
              "Calificar reciclador                                        4           3   \n",
              "Ver recomendaciones de reciclaje                            2           2   \n",
              "Ver precios de material de reciclaje                        0           5   \n",
              "Cancelar servicio de recolección                            2           1   \n",
              "Calificar Hogar                                             2           5   \n",
              "Ver información detallada del hogar                         3           5   \n",
              "\n",
              "                                          SIN ORDENAR  custering_jerarquico  \\\n",
              "OPCIÓN                                                                        \n",
              "Mi perfil                                           0                     1   \n",
              "Solicitar servicio de recolección                   0                     2   \n",
              "Cambiar contraseña                                  0                     1   \n",
              "Cerrar Sesión                                       0                     1   \n",
              "Ver lista de recicladores                           0                     3   \n",
              "Histórico de servicios                              0                     2   \n",
              "Ver información detallada del reciclador            0                     3   \n",
              "Ver información detallada del servicio              0                     2   \n",
              "Ofrecer compensación a reciclador                   0                     3   \n",
              "Calificar reciclador                                0                     3   \n",
              "Ver recomendaciones de reciclaje                    0                     2   \n",
              "Ver precios de material de reciclaje                0                     4   \n",
              "Cancelar servicio de recolección                    0                     2   \n",
              "Calificar Hogar                                     0                     4   \n",
              "Ver información detallada del hogar                 0                     4   \n",
              "\n",
              "                                          CLUSTERING_JERARQUICO  \n",
              "OPCIÓN                                                           \n",
              "Mi perfil                                                     1  \n",
              "Solicitar servicio de recolección                             2  \n",
              "Cambiar contraseña                                            1  \n",
              "Cerrar Sesión                                                 1  \n",
              "Ver lista de recicladores                                     3  \n",
              "Histórico de servicios                                        2  \n",
              "Ver información detallada del reciclador                      3  \n",
              "Ver información detallada del servicio                        2  \n",
              "Ofrecer compensación a reciclador                             3  \n",
              "Calificar reciclador                                          3  \n",
              "Ver recomendaciones de reciclaje                              2  \n",
              "Ver precios de material de reciclaje                          4  \n",
              "Cancelar servicio de recolección                              2  \n",
              "Calificar Hogar                                               4  \n",
              "Ver información detallada del hogar                           4  "
            ],
            "text/html": [
              "\n",
              "  <div id=\"df-ff918d7a-0f99-47b8-aa48-eb3336069fa8\">\n",
              "    <div class=\"colab-df-container\">\n",
              "      <div>\n",
              "<style scoped>\n",
              "    .dataframe tbody tr th:only-of-type {\n",
              "        vertical-align: middle;\n",
              "    }\n",
              "\n",
              "    .dataframe tbody tr th {\n",
              "        vertical-align: top;\n",
              "    }\n",
              "\n",
              "    .dataframe thead th {\n",
              "        text-align: right;\n",
              "    }\n",
              "</style>\n",
              "<table border=\"1\" class=\"dataframe\">\n",
              "  <thead>\n",
              "    <tr style=\"text-align: right;\">\n",
              "      <th></th>\n",
              "      <th>SEGURIDAD</th>\n",
              "      <th>SERVICIO</th>\n",
              "      <th>USUARIO EN EL HOGAR</th>\n",
              "      <th>RECICLADOR</th>\n",
              "      <th>SIN ORDENAR</th>\n",
              "      <th>custering_jerarquico</th>\n",
              "      <th>CLUSTERING_JERARQUICO</th>\n",
              "    </tr>\n",
              "    <tr>\n",
              "      <th>OPCIÓN</th>\n",
              "      <th></th>\n",
              "      <th></th>\n",
              "      <th></th>\n",
              "      <th></th>\n",
              "      <th></th>\n",
              "      <th></th>\n",
              "      <th></th>\n",
              "    </tr>\n",
              "  </thead>\n",
              "  <tbody>\n",
              "    <tr>\n",
              "      <th>Mi perfil</th>\n",
              "      <td>7</td>\n",
              "      <td>1</td>\n",
              "      <td>2</td>\n",
              "      <td>0</td>\n",
              "      <td>0</td>\n",
              "      <td>1</td>\n",
              "      <td>1</td>\n",
              "    </tr>\n",
              "    <tr>\n",
              "      <th>Solicitar servicio de recolección</th>\n",
              "      <td>0</td>\n",
              "      <td>6</td>\n",
              "      <td>3</td>\n",
              "      <td>1</td>\n",
              "      <td>0</td>\n",
              "      <td>2</td>\n",
              "      <td>2</td>\n",
              "    </tr>\n",
              "    <tr>\n",
              "      <th>Cambiar contraseña</th>\n",
              "      <td>8</td>\n",
              "      <td>0</td>\n",
              "      <td>2</td>\n",
              "      <td>0</td>\n",
              "      <td>0</td>\n",
              "      <td>1</td>\n",
              "      <td>1</td>\n",
              "    </tr>\n",
              "    <tr>\n",
              "      <th>Cerrar Sesión</th>\n",
              "      <td>7</td>\n",
              "      <td>1</td>\n",
              "      <td>2</td>\n",
              "      <td>0</td>\n",
              "      <td>0</td>\n",
              "      <td>1</td>\n",
              "      <td>1</td>\n",
              "    </tr>\n",
              "    <tr>\n",
              "      <th>Ver lista de recicladores</th>\n",
              "      <td>2</td>\n",
              "      <td>2</td>\n",
              "      <td>3</td>\n",
              "      <td>3</td>\n",
              "      <td>0</td>\n",
              "      <td>3</td>\n",
              "      <td>3</td>\n",
              "    </tr>\n",
              "    <tr>\n",
              "      <th>Histórico de servicios</th>\n",
              "      <td>3</td>\n",
              "      <td>5</td>\n",
              "      <td>1</td>\n",
              "      <td>1</td>\n",
              "      <td>0</td>\n",
              "      <td>2</td>\n",
              "      <td>2</td>\n",
              "    </tr>\n",
              "    <tr>\n",
              "      <th>Ver información detallada del reciclador</th>\n",
              "      <td>1</td>\n",
              "      <td>1</td>\n",
              "      <td>5</td>\n",
              "      <td>3</td>\n",
              "      <td>0</td>\n",
              "      <td>3</td>\n",
              "      <td>3</td>\n",
              "    </tr>\n",
              "    <tr>\n",
              "      <th>Ver información detallada del servicio</th>\n",
              "      <td>0</td>\n",
              "      <td>8</td>\n",
              "      <td>2</td>\n",
              "      <td>0</td>\n",
              "      <td>0</td>\n",
              "      <td>2</td>\n",
              "      <td>2</td>\n",
              "    </tr>\n",
              "    <tr>\n",
              "      <th>Ofrecer compensación a reciclador</th>\n",
              "      <td>0</td>\n",
              "      <td>4</td>\n",
              "      <td>4</td>\n",
              "      <td>2</td>\n",
              "      <td>0</td>\n",
              "      <td>3</td>\n",
              "      <td>3</td>\n",
              "    </tr>\n",
              "    <tr>\n",
              "      <th>Calificar reciclador</th>\n",
              "      <td>1</td>\n",
              "      <td>2</td>\n",
              "      <td>4</td>\n",
              "      <td>3</td>\n",
              "      <td>0</td>\n",
              "      <td>3</td>\n",
              "      <td>3</td>\n",
              "    </tr>\n",
              "    <tr>\n",
              "      <th>Ver recomendaciones de reciclaje</th>\n",
              "      <td>0</td>\n",
              "      <td>6</td>\n",
              "      <td>2</td>\n",
              "      <td>2</td>\n",
              "      <td>0</td>\n",
              "      <td>2</td>\n",
              "      <td>2</td>\n",
              "    </tr>\n",
              "    <tr>\n",
              "      <th>Ver precios de material de reciclaje</th>\n",
              "      <td>0</td>\n",
              "      <td>5</td>\n",
              "      <td>0</td>\n",
              "      <td>5</td>\n",
              "      <td>0</td>\n",
              "      <td>4</td>\n",
              "      <td>4</td>\n",
              "    </tr>\n",
              "    <tr>\n",
              "      <th>Cancelar servicio de recolección</th>\n",
              "      <td>1</td>\n",
              "      <td>6</td>\n",
              "      <td>2</td>\n",
              "      <td>1</td>\n",
              "      <td>0</td>\n",
              "      <td>2</td>\n",
              "      <td>2</td>\n",
              "    </tr>\n",
              "    <tr>\n",
              "      <th>Calificar Hogar</th>\n",
              "      <td>0</td>\n",
              "      <td>3</td>\n",
              "      <td>2</td>\n",
              "      <td>5</td>\n",
              "      <td>0</td>\n",
              "      <td>4</td>\n",
              "      <td>4</td>\n",
              "    </tr>\n",
              "    <tr>\n",
              "      <th>Ver información detallada del hogar</th>\n",
              "      <td>0</td>\n",
              "      <td>2</td>\n",
              "      <td>3</td>\n",
              "      <td>5</td>\n",
              "      <td>0</td>\n",
              "      <td>4</td>\n",
              "      <td>4</td>\n",
              "    </tr>\n",
              "  </tbody>\n",
              "</table>\n",
              "</div>\n",
              "      <button class=\"colab-df-convert\" onclick=\"convertToInteractive('df-ff918d7a-0f99-47b8-aa48-eb3336069fa8')\"\n",
              "              title=\"Convert this dataframe to an interactive table.\"\n",
              "              style=\"display:none;\">\n",
              "        \n",
              "  <svg xmlns=\"http://www.w3.org/2000/svg\" height=\"24px\"viewBox=\"0 0 24 24\"\n",
              "       width=\"24px\">\n",
              "    <path d=\"M0 0h24v24H0V0z\" fill=\"none\"/>\n",
              "    <path d=\"M18.56 5.44l.94 2.06.94-2.06 2.06-.94-2.06-.94-.94-2.06-.94 2.06-2.06.94zm-11 1L8.5 8.5l.94-2.06 2.06-.94-2.06-.94L8.5 2.5l-.94 2.06-2.06.94zm10 10l.94 2.06.94-2.06 2.06-.94-2.06-.94-.94-2.06-.94 2.06-2.06.94z\"/><path d=\"M17.41 7.96l-1.37-1.37c-.4-.4-.92-.59-1.43-.59-.52 0-1.04.2-1.43.59L10.3 9.45l-7.72 7.72c-.78.78-.78 2.05 0 2.83L4 21.41c.39.39.9.59 1.41.59.51 0 1.02-.2 1.41-.59l7.78-7.78 2.81-2.81c.8-.78.8-2.07 0-2.86zM5.41 20L4 18.59l7.72-7.72 1.47 1.35L5.41 20z\"/>\n",
              "  </svg>\n",
              "      </button>\n",
              "      \n",
              "  <style>\n",
              "    .colab-df-container {\n",
              "      display:flex;\n",
              "      flex-wrap:wrap;\n",
              "      gap: 12px;\n",
              "    }\n",
              "\n",
              "    .colab-df-convert {\n",
              "      background-color: #E8F0FE;\n",
              "      border: none;\n",
              "      border-radius: 50%;\n",
              "      cursor: pointer;\n",
              "      display: none;\n",
              "      fill: #1967D2;\n",
              "      height: 32px;\n",
              "      padding: 0 0 0 0;\n",
              "      width: 32px;\n",
              "    }\n",
              "\n",
              "    .colab-df-convert:hover {\n",
              "      background-color: #E2EBFA;\n",
              "      box-shadow: 0px 1px 2px rgba(60, 64, 67, 0.3), 0px 1px 3px 1px rgba(60, 64, 67, 0.15);\n",
              "      fill: #174EA6;\n",
              "    }\n",
              "\n",
              "    [theme=dark] .colab-df-convert {\n",
              "      background-color: #3B4455;\n",
              "      fill: #D2E3FC;\n",
              "    }\n",
              "\n",
              "    [theme=dark] .colab-df-convert:hover {\n",
              "      background-color: #434B5C;\n",
              "      box-shadow: 0px 1px 3px 1px rgba(0, 0, 0, 0.15);\n",
              "      filter: drop-shadow(0px 1px 2px rgba(0, 0, 0, 0.3));\n",
              "      fill: #FFFFFF;\n",
              "    }\n",
              "  </style>\n",
              "\n",
              "      <script>\n",
              "        const buttonEl =\n",
              "          document.querySelector('#df-ff918d7a-0f99-47b8-aa48-eb3336069fa8 button.colab-df-convert');\n",
              "        buttonEl.style.display =\n",
              "          google.colab.kernel.accessAllowed ? 'block' : 'none';\n",
              "\n",
              "        async function convertToInteractive(key) {\n",
              "          const element = document.querySelector('#df-ff918d7a-0f99-47b8-aa48-eb3336069fa8');\n",
              "          const dataTable =\n",
              "            await google.colab.kernel.invokeFunction('convertToInteractive',\n",
              "                                                     [key], {});\n",
              "          if (!dataTable) return;\n",
              "\n",
              "          const docLinkHtml = 'Like what you see? Visit the ' +\n",
              "            '<a target=\"_blank\" href=https://colab.research.google.com/notebooks/data_table.ipynb>data table notebook</a>'\n",
              "            + ' to learn more about interactive tables.';\n",
              "          element.innerHTML = '';\n",
              "          dataTable['output_type'] = 'display_data';\n",
              "          await google.colab.output.renderOutput(dataTable, element);\n",
              "          const docLink = document.createElement('div');\n",
              "          docLink.innerHTML = docLinkHtml;\n",
              "          element.appendChild(docLink);\n",
              "        }\n",
              "      </script>\n",
              "    </div>\n",
              "  </div>\n",
              "  "
            ]
          },
          "metadata": {},
          "execution_count": 24
        }
      ]
    }
  ]
}